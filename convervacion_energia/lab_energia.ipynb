{
 "cells": [
  {
   "cell_type": "code",
   "execution_count": 37,
   "metadata": {},
   "outputs": [],
   "source": [
    "import pandas as pd\n",
    "import numpy as np\n",
    "import matplotlib.pyplot as plt\n",
    "from scipy.optimize import curve_fit\n",
    "from scipy import stats"
   ]
  },
  {
   "cell_type": "code",
   "execution_count": 38,
   "metadata": {},
   "outputs": [],
   "source": [
    "datos = pd.read_csv('datos_energia.csv',delimiter=';')"
   ]
  },
  {
   "cell_type": "code",
   "execution_count": 39,
   "metadata": {},
   "outputs": [
    {
     "data": {
      "text/html": [
       "<div>\n",
       "<style scoped>\n",
       "    .dataframe tbody tr th:only-of-type {\n",
       "        vertical-align: middle;\n",
       "    }\n",
       "\n",
       "    .dataframe tbody tr th {\n",
       "        vertical-align: top;\n",
       "    }\n",
       "\n",
       "    .dataframe thead th {\n",
       "        text-align: right;\n",
       "    }\n",
       "</style>\n",
       "<table border=\"1\" class=\"dataframe\">\n",
       "  <thead>\n",
       "    <tr style=\"text-align: right;\">\n",
       "      <th></th>\n",
       "      <th>h_1</th>\n",
       "      <th>x_1</th>\n",
       "      <th>x_2</th>\n",
       "      <th>x_3</th>\n",
       "      <th>x_prom</th>\n",
       "    </tr>\n",
       "  </thead>\n",
       "  <tbody>\n",
       "    <tr>\n",
       "      <th>0</th>\n",
       "      <td>13</td>\n",
       "      <td>37.5</td>\n",
       "      <td>36.0</td>\n",
       "      <td>37.6</td>\n",
       "      <td>37.033333</td>\n",
       "    </tr>\n",
       "    <tr>\n",
       "      <th>1</th>\n",
       "      <td>20</td>\n",
       "      <td>45.8</td>\n",
       "      <td>45.5</td>\n",
       "      <td>44.9</td>\n",
       "      <td>45.400000</td>\n",
       "    </tr>\n",
       "    <tr>\n",
       "      <th>2</th>\n",
       "      <td>25</td>\n",
       "      <td>51.8</td>\n",
       "      <td>52.0</td>\n",
       "      <td>50.5</td>\n",
       "      <td>51.433333</td>\n",
       "    </tr>\n",
       "    <tr>\n",
       "      <th>3</th>\n",
       "      <td>35</td>\n",
       "      <td>58.4</td>\n",
       "      <td>61.6</td>\n",
       "      <td>60.8</td>\n",
       "      <td>60.266667</td>\n",
       "    </tr>\n",
       "  </tbody>\n",
       "</table>\n",
       "</div>"
      ],
      "text/plain": [
       "   h_1   x_1   x_2   x_3     x_prom\n",
       "0   13  37.5  36.0  37.6  37.033333\n",
       "1   20  45.8  45.5  44.9  45.400000\n",
       "2   25  51.8  52.0  50.5  51.433333\n",
       "3   35  58.4  61.6  60.8  60.266667"
      ]
     },
     "execution_count": 39,
     "metadata": {},
     "output_type": "execute_result"
    }
   ],
   "source": [
    "#datos preliminares\n",
    "h_i = 25\n",
    "masa = 35.9\n",
    "s_1 = 0.1\n",
    "s_2 = 0.1\n",
    "h_1 =datos['h']\n",
    "x_1 = datos['x_1']\n",
    "x_2 = datos['x_2']\n",
    "x_3 = datos['x_3']\n",
    "x_prom = [np.mean([x_1[i],x_2[i],x_3[i]]) for i in range(len(x_1))]\n",
    "\n",
    "tabla = pd.DataFrame({'h_1':h_1,'x_1':x_1,'x_2':x_2,'x_3':x_3, 'x_prom':x_prom})\n",
    "tabla"
   ]
  },
  {
   "cell_type": "code",
   "execution_count": 79,
   "metadata": {},
   "outputs": [
    {
     "data": {
      "text/html": [
       "<div>\n",
       "<style scoped>\n",
       "    .dataframe tbody tr th:only-of-type {\n",
       "        vertical-align: middle;\n",
       "    }\n",
       "\n",
       "    .dataframe tbody tr th {\n",
       "        vertical-align: top;\n",
       "    }\n",
       "\n",
       "    .dataframe thead th {\n",
       "        text-align: right;\n",
       "    }\n",
       "</style>\n",
       "<table border=\"1\" class=\"dataframe\">\n",
       "  <thead>\n",
       "    <tr style=\"text-align: right;\">\n",
       "      <th></th>\n",
       "      <th>h_1</th>\n",
       "      <th>x_1</th>\n",
       "      <th>x_2</th>\n",
       "      <th>x_3</th>\n",
       "      <th>x_prom</th>\n",
       "      <th>gamma</th>\n",
       "      <th>z</th>\n",
       "    </tr>\n",
       "  </thead>\n",
       "  <tbody>\n",
       "    <tr>\n",
       "      <th>0</th>\n",
       "      <td>13</td>\n",
       "      <td>37.5</td>\n",
       "      <td>36.0</td>\n",
       "      <td>37.6</td>\n",
       "      <td>37.033333</td>\n",
       "      <td>0.52</td>\n",
       "      <td>2.250000</td>\n",
       "    </tr>\n",
       "    <tr>\n",
       "      <th>1</th>\n",
       "      <td>20</td>\n",
       "      <td>45.8</td>\n",
       "      <td>45.5</td>\n",
       "      <td>44.9</td>\n",
       "      <td>45.400000</td>\n",
       "      <td>0.80</td>\n",
       "      <td>3.356224</td>\n",
       "    </tr>\n",
       "    <tr>\n",
       "      <th>2</th>\n",
       "      <td>25</td>\n",
       "      <td>51.8</td>\n",
       "      <td>52.0</td>\n",
       "      <td>50.5</td>\n",
       "      <td>51.433333</td>\n",
       "      <td>1.00</td>\n",
       "      <td>4.293184</td>\n",
       "    </tr>\n",
       "    <tr>\n",
       "      <th>3</th>\n",
       "      <td>35</td>\n",
       "      <td>58.4</td>\n",
       "      <td>61.6</td>\n",
       "      <td>60.8</td>\n",
       "      <td>60.266667</td>\n",
       "      <td>1.40</td>\n",
       "      <td>5.456896</td>\n",
       "    </tr>\n",
       "  </tbody>\n",
       "</table>\n",
       "</div>"
      ],
      "text/plain": [
       "   h_1   x_1   x_2   x_3     x_prom  gamma         z\n",
       "0   13  37.5  36.0  37.6  37.033333   0.52  2.250000\n",
       "1   20  45.8  45.5  44.9  45.400000   0.80  3.356224\n",
       "2   25  51.8  52.0  50.5  51.433333   1.00  4.293184\n",
       "3   35  58.4  61.6  60.8  60.266667   1.40  5.456896"
      ]
     },
     "execution_count": 79,
     "metadata": {},
     "output_type": "execute_result"
    }
   ],
   "source": [
    "#cantidades adimensionales\n",
    "\n",
    "def gamma(a):\n",
    "    return a/h_i\n",
    "\n",
    "def z(x):\n",
    "    return (x/h_i)**2\n",
    "\n",
    "gamma_1 = np.array([gamma(h_1[i]) for i in range(len(h_1))])\n",
    "z_1 = np.array([z(x_1[i]) for i in range(len(x_1))])\n",
    "\n",
    "tabla['gamma'] = gamma_1\n",
    "tabla['z'] = z_1\n",
    "tabla"
   ]
  },
  {
   "cell_type": "code",
   "execution_count": 98,
   "metadata": {},
   "outputs": [
    {
     "data": {
      "text/html": [
       "<div>\n",
       "<style scoped>\n",
       "    .dataframe tbody tr th:only-of-type {\n",
       "        vertical-align: middle;\n",
       "    }\n",
       "\n",
       "    .dataframe tbody tr th {\n",
       "        vertical-align: top;\n",
       "    }\n",
       "\n",
       "    .dataframe thead th {\n",
       "        text-align: right;\n",
       "    }\n",
       "</style>\n",
       "<table border=\"1\" class=\"dataframe\">\n",
       "  <thead>\n",
       "    <tr style=\"text-align: right;\">\n",
       "      <th></th>\n",
       "      <th>h_1</th>\n",
       "      <th>x_1</th>\n",
       "      <th>x_2</th>\n",
       "      <th>x_3</th>\n",
       "      <th>x_prom</th>\n",
       "      <th>gamma</th>\n",
       "      <th>z</th>\n",
       "      <th>inc_gamma</th>\n",
       "      <th>inc_z</th>\n",
       "    </tr>\n",
       "  </thead>\n",
       "  <tbody>\n",
       "    <tr>\n",
       "      <th>0</th>\n",
       "      <td>13</td>\n",
       "      <td>37.5</td>\n",
       "      <td>36.0</td>\n",
       "      <td>37.6</td>\n",
       "      <td>37.033333</td>\n",
       "      <td>0.52</td>\n",
       "      <td>2.250000</td>\n",
       "      <td>0.004508</td>\n",
       "      <td>0.021633</td>\n",
       "    </tr>\n",
       "    <tr>\n",
       "      <th>1</th>\n",
       "      <td>20</td>\n",
       "      <td>45.8</td>\n",
       "      <td>45.5</td>\n",
       "      <td>44.9</td>\n",
       "      <td>45.400000</td>\n",
       "      <td>0.80</td>\n",
       "      <td>3.356224</td>\n",
       "      <td>0.005122</td>\n",
       "      <td>0.030589</td>\n",
       "    </tr>\n",
       "    <tr>\n",
       "      <th>2</th>\n",
       "      <td>25</td>\n",
       "      <td>51.8</td>\n",
       "      <td>52.0</td>\n",
       "      <td>50.5</td>\n",
       "      <td>51.433333</td>\n",
       "      <td>1.00</td>\n",
       "      <td>4.293184</td>\n",
       "      <td>0.005657</td>\n",
       "      <td>0.038136</td>\n",
       "    </tr>\n",
       "    <tr>\n",
       "      <th>3</th>\n",
       "      <td>35</td>\n",
       "      <td>58.4</td>\n",
       "      <td>61.6</td>\n",
       "      <td>60.8</td>\n",
       "      <td>60.266667</td>\n",
       "      <td>1.40</td>\n",
       "      <td>5.456896</td>\n",
       "      <td>0.006882</td>\n",
       "      <td>0.047487</td>\n",
       "    </tr>\n",
       "  </tbody>\n",
       "</table>\n",
       "</div>"
      ],
      "text/plain": [
       "   h_1   x_1   x_2   x_3     x_prom  gamma         z  inc_gamma     inc_z\n",
       "0   13  37.5  36.0  37.6  37.033333   0.52  2.250000   0.004508  0.021633\n",
       "1   20  45.8  45.5  44.9  45.400000   0.80  3.356224   0.005122  0.030589\n",
       "2   25  51.8  52.0  50.5  51.433333   1.00  4.293184   0.005657  0.038136\n",
       "3   35  58.4  61.6  60.8  60.266667   1.40  5.456896   0.006882  0.047487"
      ]
     },
     "execution_count": 98,
     "metadata": {},
     "output_type": "execute_result"
    }
   ],
   "source": [
    "#incertidumbre\n",
    "\n",
    "def incerti_gamma(h,h_i):\n",
    "    def partial_h(h_i):\n",
    "        return 1/h_i\n",
    "    def partial_h_i(h,h_i):\n",
    "        return -h/(h_i**2)\n",
    "    return np.sqrt((partial_h(h_i)*s_1)**2 + (partial_h_i(h,h_i)*s_2)**2)\n",
    "\n",
    "def incerti_z(x,h):\n",
    "    def partial_x(x,h):\n",
    "        return 2*x/(h**2)\n",
    "    def partial_h(x,h):\n",
    "        return -2*x**2/(h**3)\n",
    "    return np.sqrt((partial_x(x,h)*s_1)**2 + (partial_h(x,h)*s_2)**2)\n",
    "\n",
    "\n",
    "\n",
    "inc_gamma = np.array([incerti_gamma(h_1[i],h_i) for i in range(len(h_1))])\n",
    "inc_z = np.array([incerti_z(x_1[i],h_i) for i in range(len(h_1))])\n",
    "\n",
    "tabla['inc_gamma'] = inc_gamma\n",
    "tabla['inc_z'] = inc_z\n",
    "tabla"
   ]
  },
  {
   "cell_type": "code",
   "execution_count": 76,
   "metadata": {},
   "outputs": [
    {
     "name": "stdout",
     "output_type": "stream",
     "text": [
      "slope: 3.6671248296007786\n",
      "intercept: 0.42864990847127515\n",
      "r: 0.9948355067569346\n",
      "R^2: 0.9896976855043268\n",
      "p: 0.00516449324306545\n",
      "std_err: 0.26456160717435073\n"
     ]
    }
   ],
   "source": [
    "reg_e = regresion_1(gamma_1,z_1)"
   ]
  },
  {
   "cell_type": "code",
   "execution_count": 78,
   "metadata": {},
   "outputs": [
    {
     "data": {
      "text/plain": [
       "9.077279500067084"
      ]
     },
     "execution_count": 78,
     "metadata": {},
     "output_type": "execute_result"
    }
   ],
   "source": [
    "def error_relativo(x,y):\n",
    "    return abs((x-y)/x)*100\n",
    "\n",
    "error_lab = error_relativo(3.6671248296007786,4)\n",
    "error_lab"
   ]
  },
  {
   "cell_type": "code",
   "execution_count": 102,
   "metadata": {},
   "outputs": [
    {
     "data": {
      "image/png": "[encoded data removed]",
      "text/plain": [
       "<Figure size 800x500 with 1 Axes>"
      ]
     },
     "metadata": {},
     "output_type": "display_data"
    }
   ],
   "source": [
    "fig = plt.figure(figsize=(8,5))\n",
    "plt.plot(gamma_1,reg_e,color='#cc0066',linestyle='--',label=r'$z = 3.6671\\gamma + 0.4286$'+f'\\n$R^2 = 0.98$')\n",
    "plt.plot(gamma_1,z_1,'o',color='#0033cc', label='Datos experimentales')\n",
    "plt.xlabel(r'$\\gamma$')\n",
    "plt.ylabel(r'$z$')\n",
    "plt.legend(loc='lower center',bbox_to_anchor=(1.2, 0.5), ncol=1,shadow=True, fancybox=True)\n",
    "plt.savefig('lab_energia.png', dpi = 300, bbox_inches = 'tight')\n",
    "plt.show()"
   ]
  }
 ],
 "metadata": {
  "kernelspec": {
   "display_name": "Python 3",
   "language": "python",
   "name": "python3"
  },
  "language_info": {
   "codemirror_mode": {
    "name": "ipython",
    "version": 3
   },
   "file_extension": ".py",
   "mimetype": "text/x-python",
   "name": "python",
   "nbconvert_exporter": "python",
   "pygments_lexer": "ipython3",
   "version": "3.10.13"
  }
 },
 "nbformat": 4,
 "nbformat_minor": 2
}
