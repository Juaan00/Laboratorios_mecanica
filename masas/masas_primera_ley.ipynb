{
 "cells": [
  {
   "cell_type": "code",
   "execution_count": 1,
   "metadata": {},
   "outputs": [],
   "source": [
    "import pandas as pd\n",
    "import numpy as np\n",
    "import matplotlib.pyplot as plt\n",
    "from scipy.optimize import curve_fit\n",
    "from scipy.interpolate import interp1d"
   ]
  },
  {
   "cell_type": "code",
   "execution_count": 4,
   "metadata": {},
   "outputs": [],
   "source": [
    "masa_1 = [30,30,50,30,30]\n",
    "angulo_1 = [0,0,45,45,60]\n",
    "masa_2 = [30,50,30,30,30]\n",
    "angulo_2 = [90,90,180,135,120]\n",
    "masa_3 =[43.2,58.3,35.4,43.2,53.4]\n",
    "angulo_3 = [224,239,261,266,270]"
   ]
  },
  {
   "cell_type": "code",
   "execution_count": 5,
   "metadata": {},
   "outputs": [
    {
     "data": {
      "text/html": [
       "<div>\n",
       "<style scoped>\n",
       "    .dataframe tbody tr th:only-of-type {\n",
       "        vertical-align: middle;\n",
       "    }\n",
       "\n",
       "    .dataframe tbody tr th {\n",
       "        vertical-align: top;\n",
       "    }\n",
       "\n",
       "    .dataframe thead th {\n",
       "        text-align: right;\n",
       "    }\n",
       "</style>\n",
       "<table border=\"1\" class=\"dataframe\">\n",
       "  <thead>\n",
       "    <tr style=\"text-align: right;\">\n",
       "      <th></th>\n",
       "      <th>Medida</th>\n",
       "      <th>Masa 1 (g)</th>\n",
       "      <th>Ángulo 1 (°)</th>\n",
       "      <th>Masa 2 (g)</th>\n",
       "      <th>Ángulo 2 (°)</th>\n",
       "      <th>Masa 3 (g)</th>\n",
       "      <th>Ángulo 3 (°)</th>\n",
       "    </tr>\n",
       "  </thead>\n",
       "  <tbody>\n",
       "    <tr>\n",
       "      <th>0</th>\n",
       "      <td>1</td>\n",
       "      <td>30</td>\n",
       "      <td>0</td>\n",
       "      <td>30</td>\n",
       "      <td>90</td>\n",
       "      <td>43.2</td>\n",
       "      <td>224</td>\n",
       "    </tr>\n",
       "    <tr>\n",
       "      <th>1</th>\n",
       "      <td>2</td>\n",
       "      <td>30</td>\n",
       "      <td>0</td>\n",
       "      <td>50</td>\n",
       "      <td>90</td>\n",
       "      <td>58.3</td>\n",
       "      <td>239</td>\n",
       "    </tr>\n",
       "    <tr>\n",
       "      <th>2</th>\n",
       "      <td>3</td>\n",
       "      <td>50</td>\n",
       "      <td>45</td>\n",
       "      <td>30</td>\n",
       "      <td>180</td>\n",
       "      <td>35.4</td>\n",
       "      <td>261</td>\n",
       "    </tr>\n",
       "    <tr>\n",
       "      <th>3</th>\n",
       "      <td>4</td>\n",
       "      <td>30</td>\n",
       "      <td>45</td>\n",
       "      <td>30</td>\n",
       "      <td>135</td>\n",
       "      <td>43.2</td>\n",
       "      <td>266</td>\n",
       "    </tr>\n",
       "    <tr>\n",
       "      <th>4</th>\n",
       "      <td>5</td>\n",
       "      <td>30</td>\n",
       "      <td>60</td>\n",
       "      <td>30</td>\n",
       "      <td>120</td>\n",
       "      <td>53.4</td>\n",
       "      <td>270</td>\n",
       "    </tr>\n",
       "  </tbody>\n",
       "</table>\n",
       "</div>"
      ],
      "text/plain": [
       "  Medida  Masa 1 (g)  Ángulo 1 (°)  Masa 2 (g)  Ángulo 2 (°)  Masa 3 (g)  \\\n",
       "0      1          30             0          30            90        43.2   \n",
       "1      2          30             0          50            90        58.3   \n",
       "2      3          50            45          30           180        35.4   \n",
       "3      4          30            45          30           135        43.2   \n",
       "4      5          30            60          30           120        53.4   \n",
       "\n",
       "   Ángulo 3 (°)  \n",
       "0           224  \n",
       "1           239  \n",
       "2           261  \n",
       "3           266  \n",
       "4           270  "
      ]
     },
     "execution_count": 5,
     "metadata": {},
     "output_type": "execute_result"
    }
   ],
   "source": [
    "tabla = pd.DataFrame({'Medida': ['1', '2', '3', '4', '5'], 'Masa 1 (g)': masa_1, 'Ángulo 1 (°)': angulo_1, 'Masa 2 (g)': masa_2, 'Ángulo 2 (°)': angulo_2, 'Masa 3 (g)': masa_3, 'Ángulo 3 (°)': angulo_3})\n",
    "tabla"
   ]
  }
 ],
 "metadata": {
  "language_info": {
   "name": "python"
  }
 },
 "nbformat": 4,
 "nbformat_minor": 2
}
