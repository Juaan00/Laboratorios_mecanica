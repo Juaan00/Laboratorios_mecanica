{
 "cells": [
  {
   "cell_type": "code",
   "execution_count": 64,
   "metadata": {},
   "outputs": [],
   "source": [
    "import pandas as pd\n",
    "import numpy as np\n",
    "import matplotlib.pyplot as plt\n",
    "from scipy.optimize import curve_fit\n",
    "from scipy import stats"
   ]
  },
  {
   "cell_type": "code",
   "execution_count": 65,
   "metadata": {},
   "outputs": [
    {
     "data": {
      "text/html": [
       "<div>\n",
       "<style scoped>\n",
       "    .dataframe tbody tr th:only-of-type {\n",
       "        vertical-align: middle;\n",
       "    }\n",
       "\n",
       "    .dataframe tbody tr th {\n",
       "        vertical-align: top;\n",
       "    }\n",
       "\n",
       "    .dataframe thead th {\n",
       "        text-align: right;\n",
       "    }\n",
       "</style>\n",
       "<table border=\"1\" class=\"dataframe\">\n",
       "  <thead>\n",
       "    <tr style=\"text-align: right;\">\n",
       "      <th></th>\n",
       "      <th>l (cm)</th>\n",
       "      <th>T_1 (cm):</th>\n",
       "      <th>T_2 (cm)</th>\n",
       "      <th>T (s)</th>\n",
       "    </tr>\n",
       "  </thead>\n",
       "  <tbody>\n",
       "    <tr>\n",
       "      <th>0</th>\n",
       "      <td>54.8</td>\n",
       "      <td>1.694</td>\n",
       "      <td>1.711</td>\n",
       "      <td>1.7025</td>\n",
       "    </tr>\n",
       "    <tr>\n",
       "      <th>1</th>\n",
       "      <td>50.8</td>\n",
       "      <td>1.688</td>\n",
       "      <td>1.666</td>\n",
       "      <td>1.6770</td>\n",
       "    </tr>\n",
       "    <tr>\n",
       "      <th>2</th>\n",
       "      <td>45.9</td>\n",
       "      <td>1.641</td>\n",
       "      <td>1.622</td>\n",
       "      <td>1.6315</td>\n",
       "    </tr>\n",
       "    <tr>\n",
       "      <th>3</th>\n",
       "      <td>41.3</td>\n",
       "      <td>1.602</td>\n",
       "      <td>1.618</td>\n",
       "      <td>1.6100</td>\n",
       "    </tr>\n",
       "    <tr>\n",
       "      <th>4</th>\n",
       "      <td>36.8</td>\n",
       "      <td>1.595</td>\n",
       "      <td>1.581</td>\n",
       "      <td>1.5880</td>\n",
       "    </tr>\n",
       "  </tbody>\n",
       "</table>\n",
       "</div>"
      ],
      "text/plain": [
       "   l (cm)  T_1 (cm):  T_2 (cm)   T (s)\n",
       "0    54.8      1.694     1.711  1.7025\n",
       "1    50.8      1.688     1.666  1.6770\n",
       "2    45.9      1.641     1.622  1.6315\n",
       "3    41.3      1.602     1.618  1.6100\n",
       "4    36.8      1.595     1.581  1.5880"
      ]
     },
     "execution_count": 65,
     "metadata": {},
     "output_type": "execute_result"
    }
   ],
   "source": [
    "l= np.array([54.8,50.8,45.9,41.3,36.8])\n",
    "t_1 = np.array([16.94,16.88,16.41,16.02,15.95])\n",
    "t_2 = np.array([17.11,16.66,16.22,16.18,15.81])\n",
    "t_1_periodo = np.array([t_1[i]/10 for i in range(len(t_1))])\n",
    "t_2_periodo = np.array([t_2[i]/10 for i in range(len(t_2))])\n",
    "g = 980\n",
    "l_total = 111.2\n",
    "angulo = 8\n",
    "\n",
    "def promedio(x,y):\n",
    "    return (x+y)/2\n",
    "\n",
    "t_prom = np.array([promedio(t_1_periodo[i],t_2_periodo[i]) for i in range(len(t_1))])\n",
    "\n",
    "tabla_1 = pd.DataFrame({\n",
    "    'l (cm)': l,\n",
    "    'T_1 (cm):': t_1_periodo,\n",
    "    'T_2 (cm)': t_2_periodo,\n",
    "    'T (s)': t_prom\n",
    "})\n",
    "tabla_1\n",
    "\n"
   ]
  },
  {
   "cell_type": "code",
   "execution_count": 66,
   "metadata": {},
   "outputs": [],
   "source": [
    "def gamma(x):\n",
    "    return x**2\n",
    "\n",
    "def z(x,t):\n",
    "    return x*((t/(2*np.pi))**2)\n",
    "\n",
    "Z = np.array([z(l[i],t_prom[i]) for i in range(len(l))])\n",
    "GAMMA = np.array([gamma(l[i]) for i in range(len(l))])\n",
    "\n",
    "\n",
    "    "
   ]
  },
  {
   "cell_type": "code",
   "execution_count": 67,
   "metadata": {},
   "outputs": [],
   "source": [
    "#calculo de la incertidumbre\n",
    "def incer_gamma(x):\n",
    "    return 2*x*0.1\n",
    "\n",
    "def incer_z(x,t,s1,s2):\n",
    "    def icer_t(x,t):\n",
    "        return (x/((2*np.pi)**2))*(2*t)\n",
    "    def incer_x(x,t):\n",
    "        return (t/(2*np.pi))**2\n",
    "    return np.sqrt(((incer_x(x,t)*s1)**2)+((icer_t(x,t)*s2)**2))   \n",
    "\n",
    "def incer_b(l,g):\n",
    "    return (2*l)/(12*g)"
   ]
  },
  {
   "cell_type": "code",
   "execution_count": null,
   "metadata": {},
   "outputs": [],
   "source": []
  },
  {
   "cell_type": "code",
   "execution_count": 68,
   "metadata": {},
   "outputs": [],
   "source": [
    "incert_z = np.array([incer_z(l[i],t_prom[i],0.1,0.01) for i in range(len(l))])\n",
    "incert_gamma = np.array([incer_gamma(l[i]) for i in range(len(l))])"
   ]
  },
  {
   "cell_type": "code",
   "execution_count": 69,
   "metadata": {},
   "outputs": [
    {
     "data": {
      "text/html": [
       "<div>\n",
       "<style scoped>\n",
       "    .dataframe tbody tr th:only-of-type {\n",
       "        vertical-align: middle;\n",
       "    }\n",
       "\n",
       "    .dataframe tbody tr th {\n",
       "        vertical-align: top;\n",
       "    }\n",
       "\n",
       "    .dataframe thead th {\n",
       "        text-align: right;\n",
       "    }\n",
       "</style>\n",
       "<table border=\"1\" class=\"dataframe\">\n",
       "  <thead>\n",
       "    <tr style=\"text-align: right;\">\n",
       "      <th></th>\n",
       "      <th>L (cm)</th>\n",
       "      <th>T (s)</th>\n",
       "      <th>Z</th>\n",
       "      <th>Incer Z</th>\n",
       "      <th>GAMMA</th>\n",
       "      <th>Incer GAMMA</th>\n",
       "    </tr>\n",
       "  </thead>\n",
       "  <tbody>\n",
       "    <tr>\n",
       "      <th>0</th>\n",
       "      <td>54.8</td>\n",
       "      <td>1.7025</td>\n",
       "      <td>4.023417</td>\n",
       "      <td>0.047832</td>\n",
       "      <td>3003.04</td>\n",
       "      <td>10.96</td>\n",
       "    </tr>\n",
       "    <tr>\n",
       "      <th>1</th>\n",
       "      <td>50.8</td>\n",
       "      <td>1.6770</td>\n",
       "      <td>3.618846</td>\n",
       "      <td>0.043743</td>\n",
       "      <td>2580.64</td>\n",
       "      <td>10.16</td>\n",
       "    </tr>\n",
       "    <tr>\n",
       "      <th>2</th>\n",
       "      <td>45.9</td>\n",
       "      <td>1.6315</td>\n",
       "      <td>3.094761</td>\n",
       "      <td>0.038532</td>\n",
       "      <td>2106.81</td>\n",
       "      <td>9.18</td>\n",
       "    </tr>\n",
       "    <tr>\n",
       "      <th>3</th>\n",
       "      <td>41.3</td>\n",
       "      <td>1.6100</td>\n",
       "      <td>2.711703</td>\n",
       "      <td>0.034320</td>\n",
       "      <td>1705.69</td>\n",
       "      <td>8.26</td>\n",
       "    </tr>\n",
       "    <tr>\n",
       "      <th>4</th>\n",
       "      <td>36.8</td>\n",
       "      <td>1.5880</td>\n",
       "      <td>2.350656</td>\n",
       "      <td>0.030287</td>\n",
       "      <td>1354.24</td>\n",
       "      <td>7.36</td>\n",
       "    </tr>\n",
       "  </tbody>\n",
       "</table>\n",
       "</div>"
      ],
      "text/plain": [
       "   L (cm)   T (s)         Z   Incer Z    GAMMA  Incer GAMMA\n",
       "0    54.8  1.7025  4.023417  0.047832  3003.04        10.96\n",
       "1    50.8  1.6770  3.618846  0.043743  2580.64        10.16\n",
       "2    45.9  1.6315  3.094761  0.038532  2106.81         9.18\n",
       "3    41.3  1.6100  2.711703  0.034320  1705.69         8.26\n",
       "4    36.8  1.5880  2.350656  0.030287  1354.24         7.36"
      ]
     },
     "execution_count": 69,
     "metadata": {},
     "output_type": "execute_result"
    }
   ],
   "source": [
    "tabla_2 = pd.DataFrame({'L (cm)': l, 'T (s)': t_prom, 'Z': Z, 'Incer Z': incert_z, 'GAMMA': GAMMA, 'Incer GAMMA': incert_gamma})\n",
    "tabla_2"
   ]
  },
  {
   "cell_type": "code",
   "execution_count": 70,
   "metadata": {},
   "outputs": [],
   "source": [
    "def regresion_1(t,gamma):\n",
    "  slope, intercept, r, p, std_err = stats.linregress(t,gamma)\n",
    "  def myfunc(x):\n",
    "    return slope * x + intercept\n",
    "  \n",
    "  mymodel = list(map(myfunc, t))\n",
    "  \n",
    "  r_squared = r**2\n",
    "  \n",
    "  print('slope:', slope)\n",
    "  print('intercept:', intercept)\n",
    "  print('r:', r)\n",
    "  print('R^2:', r_squared)\n",
    "  print('p:', p)\n",
    "  print('std_err:', std_err)\n",
    "  return mymodel"
   ]
  },
  {
   "cell_type": "code",
   "execution_count": 71,
   "metadata": {},
   "outputs": [
    {
     "name": "stdout",
     "output_type": "stream",
     "text": [
      "slope: 0.0010197820760307686\n",
      "intercept: 0.9672594201757425\n",
      "r: 0.9997504189005926\n",
      "R^2: 0.9995009000919103\n",
      "p: 4.732985109940425e-06\n",
      "std_err: 1.3156758324092887e-05\n"
     ]
    }
   ],
   "source": [
    "R = regresion_1(GAMMA,Z)"
   ]
  },
  {
   "cell_type": "code",
   "execution_count": 72,
   "metadata": {},
   "outputs": [
    {
     "data": {
      "text/html": [
       "<div>\n",
       "<style scoped>\n",
       "    .dataframe tbody tr th:only-of-type {\n",
       "        vertical-align: middle;\n",
       "    }\n",
       "\n",
       "    .dataframe tbody tr th {\n",
       "        vertical-align: top;\n",
       "    }\n",
       "\n",
       "    .dataframe thead th {\n",
       "        text-align: right;\n",
       "    }\n",
       "</style>\n",
       "<table border=\"1\" class=\"dataframe\">\n",
       "  <thead>\n",
       "    <tr style=\"text-align: right;\">\n",
       "      <th></th>\n",
       "      <th>g_exp</th>\n",
       "      <th>b_exp</th>\n",
       "    </tr>\n",
       "  </thead>\n",
       "  <tbody>\n",
       "    <tr>\n",
       "      <th>0</th>\n",
       "      <td>980.601663</td>\n",
       "      <td>0.967259</td>\n",
       "    </tr>\n",
       "  </tbody>\n",
       "</table>\n",
       "</div>"
      ],
      "text/plain": [
       "        g_exp     b_exp\n",
       "0  980.601663  0.967259"
      ]
     },
     "execution_count": 72,
     "metadata": {},
     "output_type": "execute_result"
    }
   ],
   "source": [
    "#Datos experimentales\n",
    "g_e = 1/0.0010197820760307686\n",
    "b_e = 0.9672594201757425\n",
    "\n",
    "\n",
    "valores_tabla_2 = pd.DataFrame({\n",
    "    'g_exp': [g_e],\n",
    "    'b_exp': [b_e]\n",
    "})\n",
    "valores_tabla_2"
   ]
  },
  {
   "cell_type": "markdown",
   "metadata": {},
   "source": [
    "Periodo con el péndulo físico establece que de la ecuación:\n",
    "$$\n",
    "T=2\\pi\\sqrt{\\frac{1/12(L^2+x^2)}{gx}}\n",
    "$$\n",
    "nos permite obtener:\n",
    "\n",
    "$$\n",
    "z=a\\gamma+b \\qquad a=\\frac{1}{g} \\qquad b=\\frac{L^2}{12g}\n",
    "$$"
   ]
  },
  {
   "cell_type": "code",
   "execution_count": 73,
   "metadata": {},
   "outputs": [
    {
     "data": {
      "text/html": [
       "<div>\n",
       "<style scoped>\n",
       "    .dataframe tbody tr th:only-of-type {\n",
       "        vertical-align: middle;\n",
       "    }\n",
       "\n",
       "    .dataframe tbody tr th {\n",
       "        vertical-align: top;\n",
       "    }\n",
       "\n",
       "    .dataframe thead th {\n",
       "        text-align: right;\n",
       "    }\n",
       "</style>\n",
       "<table border=\"1\" class=\"dataframe\">\n",
       "  <thead>\n",
       "    <tr style=\"text-align: right;\">\n",
       "      <th></th>\n",
       "      <th>a_t</th>\n",
       "      <th>b_t</th>\n",
       "      <th>incert_b</th>\n",
       "    </tr>\n",
       "  </thead>\n",
       "  <tbody>\n",
       "    <tr>\n",
       "      <th>0</th>\n",
       "      <td>0.00102</td>\n",
       "      <td>1.051483</td>\n",
       "      <td>0.001891</td>\n",
       "    </tr>\n",
       "  </tbody>\n",
       "</table>\n",
       "</div>"
      ],
      "text/plain": [
       "       a_t       b_t  incert_b\n",
       "0  0.00102  1.051483  0.001891"
      ]
     },
     "execution_count": 73,
     "metadata": {},
     "output_type": "execute_result"
    }
   ],
   "source": [
    "#datos teoricos\n",
    "\n",
    "a_t = 1/g\n",
    "b_t = (l_total**2)/(12*g)\n",
    "incert_b = incer_b(l_total,g)*0.1\n",
    "x = np.linspace(1354,3000,10\n",
    "                )\n",
    "\n",
    "valores_tabla = pd.DataFrame({\n",
    "    'a_t': [a_t],\n",
    "    'b_t': [b_t],\n",
    "    'incert_b': [incert_b]\n",
    "})\n",
    "valores_tabla"
   ]
  },
  {
   "cell_type": "code",
   "execution_count": 74,
   "metadata": {},
   "outputs": [
    {
     "data": {
      "text/html": [
       "<div>\n",
       "<style scoped>\n",
       "    .dataframe tbody tr th:only-of-type {\n",
       "        vertical-align: middle;\n",
       "    }\n",
       "\n",
       "    .dataframe tbody tr th {\n",
       "        vertical-align: top;\n",
       "    }\n",
       "\n",
       "    .dataframe thead th {\n",
       "        text-align: right;\n",
       "    }\n",
       "</style>\n",
       "<table border=\"1\" class=\"dataframe\">\n",
       "  <thead>\n",
       "    <tr style=\"text-align: right;\">\n",
       "      <th></th>\n",
       "      <th>error_g</th>\n",
       "      <th>error_b</th>\n",
       "    </tr>\n",
       "  </thead>\n",
       "  <tbody>\n",
       "    <tr>\n",
       "      <th>0</th>\n",
       "      <td>0.061357</td>\n",
       "      <td>8.707444</td>\n",
       "    </tr>\n",
       "  </tbody>\n",
       "</table>\n",
       "</div>"
      ],
      "text/plain": [
       "    error_g   error_b\n",
       "0  0.061357  8.707444"
      ]
     },
     "execution_count": 74,
     "metadata": {},
     "output_type": "execute_result"
    }
   ],
   "source": [
    "def error_relativo(x,y):\n",
    "    return abs((x-y)/x)*100\n",
    "\n",
    "error_g = error_relativo(g_e,g)\n",
    "error_b = error_relativo(b_e,b_t)\n",
    "\n",
    "errores = pd.DataFrame({\n",
    "    'error_g': [error_g],\n",
    "    'error_b': [error_b]\n",
    "})\n",
    "errores"
   ]
  },
  {
   "cell_type": "code",
   "execution_count": 75,
   "metadata": {},
   "outputs": [
    {
     "data": {
      "image/png": "[encoded data removed]",
      "text/plain": [
       "<Figure size 1000x400 with 2 Axes>"
      ]
     },
     "metadata": {},
     "output_type": "display_data"
    }
   ],
   "source": [
    "graf_1 = plt.figure(figsize=(10, 4))\n",
    "spec = graf_1.add_gridspec(ncols=2, nrows=1, figure=graf_1, width_ratios=[1, 1])\n",
    "ax1 = graf_1.add_subplot(spec[0, 0])\n",
    "ax1.plot(GAMMA,R, color='#31b4ff',label=r'$Z_{exp} = 0.001019\\gamma + 0.967$' + '\\n' + r'$R^2 = 0.9995$')\n",
    "ax1.plot(GAMMA,Z,'o',color='#ff4e6e', label='Datos experimentales')\n",
    "ax1.set_xlabel(r'$\\gamma$')\n",
    "ax1.set_ylabel(r'$Z$')\n",
    "ax1.set_xticks(np.arange(1250, 3100, 250))\n",
    "ax1.set_yticks(np.arange(2.25, 4.5, 0.25))\n",
    "ax1.set_title('Datos experimentales')\n",
    "ax1.grid()\n",
    "ax2 = graf_1.add_subplot(spec[0, 1])\n",
    "ax2.plot(x,a_t*x+b_t, color='#70b270',label=r'$Z_{teo} = 0.00102\\gamma + 1.051483$')\n",
    "ax2.plot(GAMMA,Z,'o',color='#ff4e6e')\n",
    "ax2.set_xlabel(r'$\\gamma$')\n",
    "ax2.set_ylabel(r'$Z$')\n",
    "ax2.set_xticks(np.arange(1250, 3100, 250))\n",
    "ax2.set_yticks(np.arange(2.25, 4.5, 0.25))\n",
    "ax2.set_title('Estimación teórica')\n",
    "ax2.grid()\n",
    "graf_1.legend(loc='lower center',bbox_to_anchor=(0.5, -0.2), ncol=5,shadow=True, fancybox=True)\n",
    "plt.savefig('grafica_exp_teo.png', dpi = 300, bbox_inches = 'tight')\n",
    "plt.show()\n"
   ]
  }
 ],
 "metadata": {
  "kernelspec": {
   "display_name": "Python 3",
   "language": "python",
   "name": "python3"
  },
  "language_info": {
   "codemirror_mode": {
    "name": "ipython",
    "version": 3
   },
   "file_extension": ".py",
   "mimetype": "text/x-python",
   "name": "python",
   "nbconvert_exporter": "python",
   "pygments_lexer": "ipython3",
   "version": "3.10.13"
  }
 },
 "nbformat": 4,
 "nbformat_minor": 2
}
