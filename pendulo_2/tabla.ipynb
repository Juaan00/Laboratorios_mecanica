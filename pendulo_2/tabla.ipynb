{
 "cells": [
  {
   "cell_type": "code",
   "execution_count": 5,
   "metadata": {},
   "outputs": [],
   "source": [
    "import pandas as pd\n",
    "import numpy as np\n",
    "import matplotlib.pyplot as plt\n",
    "from scipy.optimize import curve_fit\n",
    "from scipy import stats"
   ]
  },
  {
   "cell_type": "code",
   "execution_count": 12,
   "metadata": {},
   "outputs": [
    {
     "data": {
      "text/html": [
       "<div>\n",
       "<style scoped>\n",
       "    .dataframe tbody tr th:only-of-type {\n",
       "        vertical-align: middle;\n",
       "    }\n",
       "\n",
       "    .dataframe tbody tr th {\n",
       "        vertical-align: top;\n",
       "    }\n",
       "\n",
       "    .dataframe thead th {\n",
       "        text-align: right;\n",
       "    }\n",
       "</style>\n",
       "<table border=\"1\" class=\"dataframe\">\n",
       "  <thead>\n",
       "    <tr style=\"text-align: right;\">\n",
       "      <th></th>\n",
       "      <th>l (cm)</th>\n",
       "      <th>T_1 (cm):</th>\n",
       "      <th>T_2 (cm)</th>\n",
       "      <th>T (s)</th>\n",
       "    </tr>\n",
       "  </thead>\n",
       "  <tbody>\n",
       "    <tr>\n",
       "      <th>0</th>\n",
       "      <td>54.8</td>\n",
       "      <td>1.692</td>\n",
       "      <td>1.701</td>\n",
       "      <td>1.6965</td>\n",
       "    </tr>\n",
       "    <tr>\n",
       "      <th>1</th>\n",
       "      <td>50.8</td>\n",
       "      <td>1.688</td>\n",
       "      <td>1.666</td>\n",
       "      <td>1.6770</td>\n",
       "    </tr>\n",
       "    <tr>\n",
       "      <th>2</th>\n",
       "      <td>45.9</td>\n",
       "      <td>1.641</td>\n",
       "      <td>1.622</td>\n",
       "      <td>1.6315</td>\n",
       "    </tr>\n",
       "    <tr>\n",
       "      <th>3</th>\n",
       "      <td>41.3</td>\n",
       "      <td>1.602</td>\n",
       "      <td>1.618</td>\n",
       "      <td>1.6100</td>\n",
       "    </tr>\n",
       "    <tr>\n",
       "      <th>4</th>\n",
       "      <td>36.8</td>\n",
       "      <td>1.595</td>\n",
       "      <td>1.591</td>\n",
       "      <td>1.5930</td>\n",
       "    </tr>\n",
       "  </tbody>\n",
       "</table>\n",
       "</div>"
      ],
      "text/plain": [
       "   l (cm)  T_1 (cm):  T_2 (cm)   T (s)\n",
       "0    54.8      1.692     1.701  1.6965\n",
       "1    50.8      1.688     1.666  1.6770\n",
       "2    45.9      1.641     1.622  1.6315\n",
       "3    41.3      1.602     1.618  1.6100\n",
       "4    36.8      1.595     1.591  1.5930"
      ]
     },
     "execution_count": 12,
     "metadata": {},
     "output_type": "execute_result"
    }
   ],
   "source": [
    "l= np.array([54.8,50.8,45.9,41.3,36.8])\n",
    "t_1 = np.array([16.92,16.88,16.41,16.02,15.95])\n",
    "t_2 = np.array([17.01,16.66,16.22,16.18,15.91])\n",
    "t_1_periodo = np.array([t_1[i]/10 for i in range(len(t_1))])\n",
    "t_2_periodo = np.array([t_2[i]/10 for i in range(len(t_2))])\n",
    "g = 980\n",
    "l_total = 111.2\n",
    "angulo = 8\n",
    "\n",
    "def promedio(x,y):\n",
    "    return (x+y)/2\n",
    "\n",
    "t_prom = np.array([promedio(t_1_periodo[i],t_2_periodo[i]) for i in range(len(t_1))])\n",
    "\n",
    "tabla_1 = pd.DataFrame({\n",
    "    'l (cm)': l,\n",
    "    'T_1 (cm):': t_1_periodo,\n",
    "    'T_2 (cm)': t_2_periodo,\n",
    "    'T (s)': t_prom\n",
    "})\n",
    "tabla_1\n",
    "\n"
   ]
  },
  {
   "cell_type": "code",
   "execution_count": 7,
   "metadata": {},
   "outputs": [
    {
     "data": {
      "text/html": [
       "<div>\n",
       "<style scoped>\n",
       "    .dataframe tbody tr th:only-of-type {\n",
       "        vertical-align: middle;\n",
       "    }\n",
       "\n",
       "    .dataframe tbody tr th {\n",
       "        vertical-align: top;\n",
       "    }\n",
       "\n",
       "    .dataframe thead th {\n",
       "        text-align: right;\n",
       "    }\n",
       "</style>\n",
       "<table border=\"1\" class=\"dataframe\">\n",
       "  <thead>\n",
       "    <tr style=\"text-align: right;\">\n",
       "      <th></th>\n",
       "      <th>L (cm)</th>\n",
       "      <th>T (s)</th>\n",
       "      <th>Z</th>\n",
       "      <th>GAMMA</th>\n",
       "    </tr>\n",
       "  </thead>\n",
       "  <tbody>\n",
       "    <tr>\n",
       "      <th>0</th>\n",
       "      <td>54.8</td>\n",
       "      <td>1.6965</td>\n",
       "      <td>3.995108</td>\n",
       "      <td>3003.04</td>\n",
       "    </tr>\n",
       "    <tr>\n",
       "      <th>1</th>\n",
       "      <td>50.8</td>\n",
       "      <td>1.6770</td>\n",
       "      <td>3.618846</td>\n",
       "      <td>2580.64</td>\n",
       "    </tr>\n",
       "    <tr>\n",
       "      <th>2</th>\n",
       "      <td>45.9</td>\n",
       "      <td>1.6315</td>\n",
       "      <td>3.094761</td>\n",
       "      <td>2106.81</td>\n",
       "    </tr>\n",
       "    <tr>\n",
       "      <th>3</th>\n",
       "      <td>41.3</td>\n",
       "      <td>1.6100</td>\n",
       "      <td>2.711703</td>\n",
       "      <td>1705.69</td>\n",
       "    </tr>\n",
       "    <tr>\n",
       "      <th>4</th>\n",
       "      <td>36.8</td>\n",
       "      <td>1.5930</td>\n",
       "      <td>2.365482</td>\n",
       "      <td>1354.24</td>\n",
       "    </tr>\n",
       "  </tbody>\n",
       "</table>\n",
       "</div>"
      ],
      "text/plain": [
       "   L (cm)   T (s)         Z    GAMMA\n",
       "0    54.8  1.6965  3.995108  3003.04\n",
       "1    50.8  1.6770  3.618846  2580.64\n",
       "2    45.9  1.6315  3.094761  2106.81\n",
       "3    41.3  1.6100  2.711703  1705.69\n",
       "4    36.8  1.5930  2.365482  1354.24"
      ]
     },
     "execution_count": 7,
     "metadata": {},
     "output_type": "execute_result"
    }
   ],
   "source": [
    "def gamma(x):\n",
    "    return x**2\n",
    "\n",
    "def z(x,t):\n",
    "    return x*((t/(2*np.pi))**2)\n",
    "\n",
    "Z = np.array([z(l[i],t_prom[i]) for i in range(len(l))])\n",
    "GAMMA = np.array([gamma(l[i]) for i in range(len(l))])\n",
    "\n",
    "tabla_2 = pd.DataFrame({'L (cm)': l, 'T (s)': t_prom, 'Z': Z, 'GAMMA': GAMMA})\n",
    "tabla_2\n",
    "\n",
    "    "
   ]
  },
  {
   "cell_type": "code",
   "execution_count": 8,
   "metadata": {},
   "outputs": [],
   "source": [
    "def regresion_1(t,gamma):\n",
    "  slope, intercept, r, p, std_err = stats.linregress(t,gamma)\n",
    "  def myfunc(x):\n",
    "    return slope * x + intercept\n",
    "  \n",
    "  mymodel = list(map(myfunc, t))\n",
    "  \n",
    "  r_squared = r**2\n",
    "  \n",
    "  print('slope:', slope)\n",
    "  print('intercept:', intercept)\n",
    "  print('r:', r)\n",
    "  print('R^2:', r_squared)\n",
    "  print('p:', p)\n",
    "  print('std_err:', std_err)\n",
    "  return mymodel"
   ]
  },
  {
   "cell_type": "code",
   "execution_count": 9,
   "metadata": {},
   "outputs": [
    {
     "name": "stdout",
     "output_type": "stream",
     "text": [
      "slope: 0.0009991905407249493\n",
      "intercept: 1.0088363523151367\n",
      "r: 0.9995477579337462\n",
      "R^2: 0.9990957203903789\n",
      "p: 1.1544119914743088e-05\n",
      "std_err: 1.7355435117340662e-05\n"
     ]
    }
   ],
   "source": [
    "R = regresion_1(GAMMA,Z)"
   ]
  },
  {
   "cell_type": "markdown",
   "metadata": {},
   "source": [
    "Periodo con el péndulo físico establece que de la ecuación:\n",
    "$$\n",
    "T=2\\pi\\sqrt{\\frac{1/12(L^2+x^2)}{gx}}\n",
    "$$\n",
    "nos permite obtener:\n",
    "\n",
    "$$\n",
    "z=a\\gamma+b \\qquad a=\\frac{1}{g} \\qquad b=\\frac{L^2}{12g}\n",
    "$$"
   ]
  },
  {
   "cell_type": "code",
   "execution_count": 10,
   "metadata": {},
   "outputs": [],
   "source": [
    "#Error procentual\n",
    "def error_porcentual(x):\n",
    "    return (g-x)*100/g\n"
   ]
  },
  {
   "cell_type": "code",
   "execution_count": 11,
   "metadata": {},
   "outputs": [
    {
     "data": {
      "image/png": "[encoded data removed]",
      "text/plain": [
       "<Figure size 640x480 with 1 Axes>"
      ]
     },
     "metadata": {},
     "output_type": "display_data"
    }
   ],
   "source": [
    "graf_1 = plt.figure(1)\n",
    "plt.plot(GAMMA,R, color='#31b4ff',label=r'$Z = 0.0999\\gamma + 100.883$' + '\\n' + r'$R^2 = 0.9991$')\n",
    "plt.plot(GAMMA,Z,'o',color='#ff4e6e')\n",
    "plt.xlabel(r'$\\gamma$')\n",
    "plt.ylabel('Z')\n",
    "plt.title(r'Z vs $\\gamma$')\n",
    "plt.legend()\n",
    "plt.grid()\n",
    "plt.show()\n"
   ]
  }
 ],
 "metadata": {
  "kernelspec": {
   "display_name": "Python 3",
   "language": "python",
   "name": "python3"
  },
  "language_info": {
   "codemirror_mode": {
    "name": "ipython",
    "version": 3
   },
   "file_extension": ".py",
   "mimetype": "text/x-python",
   "name": "python",
   "nbconvert_exporter": "python",
   "pygments_lexer": "ipython3",
   "version": "3.10.13"
  }
 },
 "nbformat": 4,
 "nbformat_minor": 2
}
