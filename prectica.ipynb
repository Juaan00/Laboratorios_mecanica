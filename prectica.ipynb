{
 "cells": [
  {
   "cell_type": "code",
   "execution_count": 1,
   "metadata": {},
   "outputs": [],
   "source": [
    "import pandas as pd\n",
    "import numpy as np\n",
    "import matplotlib.pyplot as plt\n",
    "from scipy.optimize import curve_fit\n",
    "from scipy.interpolate import interp1d"
   ]
  },
  {
   "cell_type": "code",
   "execution_count": 3,
   "metadata": {},
   "outputs": [
    {
     "data": {
      "text/plain": [
       "np.float64(2.7718044664081196)"
      ]
     },
     "execution_count": 3,
     "metadata": {},
     "output_type": "execute_result"
    }
   ],
   "source": [
    "s_1 = 0.1\n",
    "s_2 = 2.77\n",
    "i = np.sqrt((s_1**2)+(s_2**2))\n",
    "i"
   ]
  },
  {
   "cell_type": "code",
   "execution_count": 7,
   "metadata": {},
   "outputs": [
    {
     "data": {
      "text/plain": [
       "np.float64(12.271301479468264)"
      ]
     },
     "execution_count": 7,
     "metadata": {},
     "output_type": "execute_result"
    }
   ],
   "source": [
    "def velocidad(x):\n",
    "    return x/(np.sqrt(50/980))\n",
    "\n",
    "s_v_1 = velocidad(i)\n",
    "s_v_1"
   ]
  },
  {
   "cell_type": "code",
   "execution_count": 8,
   "metadata": {},
   "outputs": [],
   "source": [
    "def distancia(x,y,z):\n",
    "    return (x*np.cos(y)*(x*np.sin(y)+np.sqrt((x*np.sin(y))**2+2*z*25)))/z"
   ]
  },
  {
   "cell_type": "code",
   "execution_count": 10,
   "metadata": {},
   "outputs": [
    {
     "ename": "NameError",
     "evalue": "name 'g_0_prom' is not defined",
     "output_type": "error",
     "traceback": [
      "\u001b[0;31m---------------------------------------------------------------------------\u001b[0m",
      "\u001b[0;31mNameError\u001b[0m                                 Traceback (most recent call last)",
      "\u001b[1;32m/workspaces/Laboratorios_mecanica/prectica.ipynb Cell 5\u001b[0m line \u001b[0;36m6\n\u001b[1;32m      <a href='vscode-notebook-cell://codespaces%2Bvigilant-funicular-jj5pq66q7x7vf5wp9/workspaces/Laboratorios_mecanica/prectica.ipynb#W4sdnNjb2RlLXJlbW90ZQ%3D%3D?line=3'>4</a>\u001b[0m s_x_60 \u001b[39m=\u001b[39m distancia(s_v_1, np\u001b[39m.\u001b[39mradians(\u001b[39m60\u001b[39m), \u001b[39m980\u001b[39m)\n\u001b[1;32m      <a href='vscode-notebook-cell://codespaces%2Bvigilant-funicular-jj5pq66q7x7vf5wp9/workspaces/Laboratorios_mecanica/prectica.ipynb#W4sdnNjb2RlLXJlbW90ZQ%3D%3D?line=4'>5</a>\u001b[0m s_x_75 \u001b[39m=\u001b[39m distancia(s_v_1, np\u001b[39m.\u001b[39mradians(\u001b[39m75\u001b[39m), \u001b[39m980\u001b[39m)\n\u001b[0;32m----> <a href='vscode-notebook-cell://codespaces%2Bvigilant-funicular-jj5pq66q7x7vf5wp9/workspaces/Laboratorios_mecanica/prectica.ipynb#W4sdnNjb2RlLXJlbW90ZQ%3D%3D?line=5'>6</a>\u001b[0m s_x_t \u001b[39m=\u001b[39m [g_0_prom,x_15, x_30, x_45, x_60, x_75]\n\u001b[1;32m      <a href='vscode-notebook-cell://codespaces%2Bvigilant-funicular-jj5pq66q7x7vf5wp9/workspaces/Laboratorios_mecanica/prectica.ipynb#W4sdnNjb2RlLXJlbW90ZQ%3D%3D?line=6'>7</a>\u001b[0m tabla_3 \u001b[39m=\u001b[39m pd\u001b[39m.\u001b[39mDataFrame({\u001b[39m'\u001b[39m\u001b[39mÁngulo (°)\u001b[39m\u001b[39m'\u001b[39m: [\u001b[39m0\u001b[39m, \u001b[39m15\u001b[39m, \u001b[39m30\u001b[39m, \u001b[39m45\u001b[39m, \u001b[39m60\u001b[39m, \u001b[39m75\u001b[39m], \u001b[39m'\u001b[39m\u001b[39mDistancia (cm)\u001b[39m\u001b[39m'\u001b[39m: s_x_t})\n\u001b[1;32m      <a href='vscode-notebook-cell://codespaces%2Bvigilant-funicular-jj5pq66q7x7vf5wp9/workspaces/Laboratorios_mecanica/prectica.ipynb#W4sdnNjb2RlLXJlbW90ZQ%3D%3D?line=7'>8</a>\u001b[0m tabla_3\n",
      "\u001b[0;31mNameError\u001b[0m: name 'g_0_prom' is not defined"
     ]
    }
   ],
   "source": [
    "s_x_15 = distancia(s_v_1, np.radians(15), 980)\n",
    "s_x_30 = distancia(s_v_1, np.radians(30), 980)\n",
    "s_x_45 = distancia(s_v_1, np.radians(45), 980)\n",
    "s_x_60 = distancia(s_v_1, np.radians(60), 980)\n",
    "s_x_75 = distancia(s_v_1, np.radians(75), 980)\n",
    "s_x_t = [g_0_prom,x_15, x_30, x_45, x_60, x_75]\n",
    "tabla_3 = pd.DataFrame({'Ángulo (°)': [0, 15, 30, 45, 60, 75], 'Distancia (cm)': s_x_t})\n",
    "tabla_3"
   ]
  }
 ],
 "metadata": {
  "language_info": {
   "name": "python"
  }
 },
 "nbformat": 4,
 "nbformat_minor": 2
}
