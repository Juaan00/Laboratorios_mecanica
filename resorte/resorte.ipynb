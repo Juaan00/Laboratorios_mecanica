{
 "cells": [
  {
   "cell_type": "markdown",
   "metadata": {},
   "source": [
    "Esperimento con el resorte"
   ]
  },
  {
   "cell_type": "code",
   "execution_count": 9,
   "metadata": {},
   "outputs": [],
   "source": [
    "import pandas as pd\n",
    "import numpy as np\n",
    "import matplotlib.pyplot as plt"
   ]
  },
  {
   "cell_type": "code",
   "execution_count": 10,
   "metadata": {},
   "outputs": [],
   "source": [
    "datos_1 = pd.read_csv('resorte_1.csv', delimiter=';')\n",
    "datos_2 = pd.read_csv('resorte_2.csv', delimiter=';')"
   ]
  },
  {
   "cell_type": "code",
   "execution_count": 11,
   "metadata": {},
   "outputs": [],
   "source": [
    "#Longitud de los resortes\n",
    "l_r1 = datos_2['L_R1']\n",
    "l_r2 = datos_2['L_R2']\n",
    "#Error instrumental\n",
    "sigma_1 = datos_2['sigma_r']\n",
    "sigma_2 = datos_2['sigma_b']\n",
    "#Masas\n",
    "m = datos_1['masa']\n",
    "#Longitud resorte 1 con masas\n",
    "l_r1_m = datos_1['R_1']\n",
    "#longitud resorte 2 con masas\n",
    "l_r2_m = datos_1['R_2']\n",
    "#longitud resorte 1 y 2 con masas 1 (r1 junto a r2)\n",
    "l_r1_r2_m1 = datos_1['R_1_R_2_m1']\n",
    "#longitud resorte 1 y 2 con masas 2 (r1 sobre r2)\n",
    "l_r1_r2_m2 = datos_1['R_1_R_2_m2']"
   ]
  },
  {
   "cell_type": "code",
   "execution_count": 12,
   "metadata": {},
   "outputs": [
    {
     "data": {
      "text/html": [
       "<div>\n",
       "<style scoped>\n",
       "    .dataframe tbody tr th:only-of-type {\n",
       "        vertical-align: middle;\n",
       "    }\n",
       "\n",
       "    .dataframe tbody tr th {\n",
       "        vertical-align: top;\n",
       "    }\n",
       "\n",
       "    .dataframe thead th {\n",
       "        text-align: right;\n",
       "    }\n",
       "</style>\n",
       "<table border=\"1\" class=\"dataframe\">\n",
       "  <thead>\n",
       "    <tr style=\"text-align: right;\">\n",
       "      <th></th>\n",
       "      <th>Longitud resorte 1 (cm)</th>\n",
       "      <th>Longitud resorte 2 (cm)</th>\n",
       "      <th>Error instrumental resorte 1 (cm)</th>\n",
       "      <th>Error instrumental resorte 2 (cm)</th>\n",
       "    </tr>\n",
       "  </thead>\n",
       "  <tbody>\n",
       "    <tr>\n",
       "      <th>0</th>\n",
       "      <td>12.3</td>\n",
       "      <td>12.4</td>\n",
       "      <td>0.1</td>\n",
       "      <td>0.1</td>\n",
       "    </tr>\n",
       "  </tbody>\n",
       "</table>\n",
       "</div>"
      ],
      "text/plain": [
       "   Longitud resorte 1 (cm)  Longitud resorte 2 (cm)  \\\n",
       "0                     12.3                     12.4   \n",
       "\n",
       "   Error instrumental resorte 1 (cm)  Error instrumental resorte 2 (cm)  \n",
       "0                                0.1                                0.1  "
      ]
     },
     "execution_count": 12,
     "metadata": {},
     "output_type": "execute_result"
    }
   ],
   "source": [
    "#Medidas iniciales del experimento\n",
    "tabla_inicial = pd.DataFrame({'Longitud resorte 1 (cm)': l_r1, \n",
    "                              'Longitud resorte 2 (cm)': l_r2, \n",
    "                              'Error instrumental resorte 1 (cm)': sigma_1, \n",
    "                              'Error instrumental resorte 2 (cm)': sigma_2})\n",
    "tabla_inicial"
   ]
  },
  {
   "cell_type": "code",
   "execution_count": 14,
   "metadata": {},
   "outputs": [
    {
     "data": {
      "text/html": [
       "<div>\n",
       "<style scoped>\n",
       "    .dataframe tbody tr th:only-of-type {\n",
       "        vertical-align: middle;\n",
       "    }\n",
       "\n",
       "    .dataframe tbody tr th {\n",
       "        vertical-align: top;\n",
       "    }\n",
       "\n",
       "    .dataframe thead th {\n",
       "        text-align: right;\n",
       "    }\n",
       "</style>\n",
       "<table border=\"1\" class=\"dataframe\">\n",
       "  <thead>\n",
       "    <tr style=\"text-align: right;\">\n",
       "      <th></th>\n",
       "      <th>Masa (g)</th>\n",
       "      <th>Longitud resorte 1 con masa (cm)</th>\n",
       "      <th>Longitud resorte 2 con masa (cm)</th>\n",
       "      <th>Longitud resorte 1 y 2 con masa 1 (cm)</th>\n",
       "      <th>Longitud resorte 1 y 2 con masa 2 (cm)</th>\n",
       "    </tr>\n",
       "  </thead>\n",
       "  <tbody>\n",
       "    <tr>\n",
       "      <th>0</th>\n",
       "      <td>272,7</td>\n",
       "      <td>39,2</td>\n",
       "      <td>33,3</td>\n",
       "      <td>23,3</td>\n",
       "      <td>78,7</td>\n",
       "    </tr>\n",
       "    <tr>\n",
       "      <th>1</th>\n",
       "      <td>257,9</td>\n",
       "      <td>37,8</td>\n",
       "      <td>31,9</td>\n",
       "      <td>22,4</td>\n",
       "      <td>75,2</td>\n",
       "    </tr>\n",
       "    <tr>\n",
       "      <th>2</th>\n",
       "      <td>208,9</td>\n",
       "      <td>32,5</td>\n",
       "      <td>27,2</td>\n",
       "      <td>19,7</td>\n",
       "      <td>65,1</td>\n",
       "    </tr>\n",
       "    <tr>\n",
       "      <th>3</th>\n",
       "      <td>148,9</td>\n",
       "      <td>25,6</td>\n",
       "      <td>21,1</td>\n",
       "      <td>16,6</td>\n",
       "      <td>53,3</td>\n",
       "    </tr>\n",
       "    <tr>\n",
       "      <th>4</th>\n",
       "      <td>89,3</td>\n",
       "      <td>19,3</td>\n",
       "      <td>15,9</td>\n",
       "      <td>13,8</td>\n",
       "      <td>41</td>\n",
       "    </tr>\n",
       "  </tbody>\n",
       "</table>\n",
       "</div>"
      ],
      "text/plain": [
       "  Masa (g) Longitud resorte 1 con masa (cm) Longitud resorte 2 con masa (cm)  \\\n",
       "0    272,7                             39,2                             33,3   \n",
       "1    257,9                             37,8                             31,9   \n",
       "2    208,9                             32,5                             27,2   \n",
       "3    148,9                             25,6                             21,1   \n",
       "4     89,3                             19,3                             15,9   \n",
       "\n",
       "  Longitud resorte 1 y 2 con masa 1 (cm)  \\\n",
       "0                                   23,3   \n",
       "1                                   22,4   \n",
       "2                                   19,7   \n",
       "3                                   16,6   \n",
       "4                                   13,8   \n",
       "\n",
       "  Longitud resorte 1 y 2 con masa 2 (cm)  \n",
       "0                                   78,7  \n",
       "1                                   75,2  \n",
       "2                                   65,1  \n",
       "3                                   53,3  \n",
       "4                                     41  "
      ]
     },
     "execution_count": 14,
     "metadata": {},
     "output_type": "execute_result"
    }
   ],
   "source": [
    "tabla_capturas = pd.DataFrame({'Masa (g)': m, \n",
    "                               'Longitud resorte 1 con masa (cm)': l_r1_m, \n",
    "                               'Longitud resorte 2 con masa (cm)': l_r2_m, \n",
    "                               'Longitud resorte 1 y 2 con masa 1 (cm)': l_r1_r2_m1, \n",
    "                               'Longitud resorte 1 y 2 con masa 2 (cm)': l_r1_r2_m2})\n",
    "tabla_capturas"
   ]
  }
 ],
 "metadata": {
  "kernelspec": {
   "display_name": "Python 3",
   "language": "python",
   "name": "python3"
  },
  "language_info": {
   "codemirror_mode": {
    "name": "ipython",
    "version": 3
   },
   "file_extension": ".py",
   "mimetype": "text/x-python",
   "name": "python",
   "nbconvert_exporter": "python",
   "pygments_lexer": "ipython3",
   "version": "3.10.13"
  }
 },
 "nbformat": 4,
 "nbformat_minor": 2
}
