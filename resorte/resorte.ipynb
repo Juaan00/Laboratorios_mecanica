{
 "cells": [
  {
   "cell_type": "markdown",
   "metadata": {},
   "source": [
    "<h5>Ley de Hooke<h5/>"
   ]
  },
  {
   "cell_type": "code",
   "execution_count": 170,
   "metadata": {},
   "outputs": [],
   "source": [
    "import pandas as pd\n",
    "import numpy as np\n",
    "import matplotlib.pyplot as plt\n",
    "from scipy.optimize import curve_fit\n",
    "from scipy import stats"
   ]
  },
  {
   "cell_type": "code",
   "execution_count": 171,
   "metadata": {},
   "outputs": [],
   "source": [
    "datos_1 = pd.read_csv('resorte_1.csv', delimiter=';')\n",
    "datos_2 = pd.read_csv('resorte_2.csv', delimiter=';')"
   ]
  },
  {
   "cell_type": "code",
   "execution_count": 172,
   "metadata": {},
   "outputs": [],
   "source": [
    "#Longitud de los resortes\n",
    "l_r1 = datos_2['L_R1']\n",
    "l_r2 = datos_2['L_R2']\n",
    "#Error instrumental\n",
    "sigma_1 = datos_2['sigma_r']\n",
    "sigma_2 = datos_2['sigma_b']\n",
    "#Masas\n",
    "m = np.array(datos_1['masa'])\n",
    "#Longitud resorte 1 con masas\n",
    "l_r1_m = np.array(datos_1['R_1'])\n",
    "#longitud resorte 2 con masas\n",
    "l_r2_m = np.array(datos_1['R_2'])\n",
    "#longitud resorte 1 y 2 con masas 1 (r1 junto a r2)\n",
    "l_r1_r2_m1 = np.array(datos_1['R_1_R_2_m1'])\n",
    "#longitud resorte 1 y 2 con masas 2 (r1 sobre r2)\n",
    "l_r1_r2_m2 = np.array(datos_1['R_1_R_2_m2'])"
   ]
  },
  {
   "cell_type": "code",
   "execution_count": 173,
   "metadata": {},
   "outputs": [
    {
     "data": {
      "text/html": [
       "<div>\n",
       "<style scoped>\n",
       "    .dataframe tbody tr th:only-of-type {\n",
       "        vertical-align: middle;\n",
       "    }\n",
       "\n",
       "    .dataframe tbody tr th {\n",
       "        vertical-align: top;\n",
       "    }\n",
       "\n",
       "    .dataframe thead th {\n",
       "        text-align: right;\n",
       "    }\n",
       "</style>\n",
       "<table border=\"1\" class=\"dataframe\">\n",
       "  <thead>\n",
       "    <tr style=\"text-align: right;\">\n",
       "      <th></th>\n",
       "      <th>Longitud resorte 1 (cm)</th>\n",
       "      <th>Longitud resorte 2 (cm)</th>\n",
       "      <th>Error instrumental regla (cm)</th>\n",
       "      <th>Error instrumental báscula (g)</th>\n",
       "    </tr>\n",
       "  </thead>\n",
       "  <tbody>\n",
       "    <tr>\n",
       "      <th>0</th>\n",
       "      <td>12.3</td>\n",
       "      <td>12.4</td>\n",
       "      <td>0.1</td>\n",
       "      <td>0.1</td>\n",
       "    </tr>\n",
       "  </tbody>\n",
       "</table>\n",
       "</div>"
      ],
      "text/plain": [
       "   Longitud resorte 1 (cm)  Longitud resorte 2 (cm)  \\\n",
       "0                     12.3                     12.4   \n",
       "\n",
       "   Error instrumental regla (cm)  Error instrumental báscula (g)  \n",
       "0                            0.1                             0.1  "
      ]
     },
     "execution_count": 173,
     "metadata": {},
     "output_type": "execute_result"
    }
   ],
   "source": [
    "#Medidas iniciales del experimento\n",
    "tabla_inicial = pd.DataFrame({'Longitud resorte 1 (cm)': l_r1, \n",
    "                              'Longitud resorte 2 (cm)': l_r2, \n",
    "                              'Error instrumental regla (cm)': sigma_1, \n",
    "                              'Error instrumental báscula (g)': sigma_2})\n",
    "tabla_inicial"
   ]
  },
  {
   "cell_type": "code",
   "execution_count": 174,
   "metadata": {},
   "outputs": [
    {
     "data": {
      "text/html": [
       "<div>\n",
       "<style scoped>\n",
       "    .dataframe tbody tr th:only-of-type {\n",
       "        vertical-align: middle;\n",
       "    }\n",
       "\n",
       "    .dataframe tbody tr th {\n",
       "        vertical-align: top;\n",
       "    }\n",
       "\n",
       "    .dataframe thead th {\n",
       "        text-align: right;\n",
       "    }\n",
       "</style>\n",
       "<table border=\"1\" class=\"dataframe\">\n",
       "  <thead>\n",
       "    <tr style=\"text-align: right;\">\n",
       "      <th></th>\n",
       "      <th>Masa (g)</th>\n",
       "      <th>Longitud resorte 1 con masa (cm)</th>\n",
       "      <th>Longitud resorte 2 con masa (cm)</th>\n",
       "      <th>Longitud resorte 1 y 2 con masa 1 (cm)</th>\n",
       "      <th>Longitud resorte 1 y 2 con masa 2 (cm)</th>\n",
       "    </tr>\n",
       "  </thead>\n",
       "  <tbody>\n",
       "    <tr>\n",
       "      <th>0</th>\n",
       "      <td>0.0</td>\n",
       "      <td>12.3</td>\n",
       "      <td>12.4</td>\n",
       "      <td>12.3</td>\n",
       "      <td>24.7</td>\n",
       "    </tr>\n",
       "    <tr>\n",
       "      <th>1</th>\n",
       "      <td>272.7</td>\n",
       "      <td>39.2</td>\n",
       "      <td>33.3</td>\n",
       "      <td>23.3</td>\n",
       "      <td>78.7</td>\n",
       "    </tr>\n",
       "    <tr>\n",
       "      <th>2</th>\n",
       "      <td>257.9</td>\n",
       "      <td>37.8</td>\n",
       "      <td>31.9</td>\n",
       "      <td>22.4</td>\n",
       "      <td>75.2</td>\n",
       "    </tr>\n",
       "    <tr>\n",
       "      <th>3</th>\n",
       "      <td>208.9</td>\n",
       "      <td>32.5</td>\n",
       "      <td>27.2</td>\n",
       "      <td>19.7</td>\n",
       "      <td>65.1</td>\n",
       "    </tr>\n",
       "    <tr>\n",
       "      <th>4</th>\n",
       "      <td>148.9</td>\n",
       "      <td>25.6</td>\n",
       "      <td>21.1</td>\n",
       "      <td>16.6</td>\n",
       "      <td>53.3</td>\n",
       "    </tr>\n",
       "    <tr>\n",
       "      <th>5</th>\n",
       "      <td>89.3</td>\n",
       "      <td>19.3</td>\n",
       "      <td>15.9</td>\n",
       "      <td>13.8</td>\n",
       "      <td>41.0</td>\n",
       "    </tr>\n",
       "  </tbody>\n",
       "</table>\n",
       "</div>"
      ],
      "text/plain": [
       "   Masa (g)  Longitud resorte 1 con masa (cm)  \\\n",
       "0       0.0                              12.3   \n",
       "1     272.7                              39.2   \n",
       "2     257.9                              37.8   \n",
       "3     208.9                              32.5   \n",
       "4     148.9                              25.6   \n",
       "5      89.3                              19.3   \n",
       "\n",
       "   Longitud resorte 2 con masa (cm)  Longitud resorte 1 y 2 con masa 1 (cm)  \\\n",
       "0                              12.4                                    12.3   \n",
       "1                              33.3                                    23.3   \n",
       "2                              31.9                                    22.4   \n",
       "3                              27.2                                    19.7   \n",
       "4                              21.1                                    16.6   \n",
       "5                              15.9                                    13.8   \n",
       "\n",
       "   Longitud resorte 1 y 2 con masa 2 (cm)  \n",
       "0                                    24.7  \n",
       "1                                    78.7  \n",
       "2                                    75.2  \n",
       "3                                    65.1  \n",
       "4                                    53.3  \n",
       "5                                    41.0  "
      ]
     },
     "execution_count": 174,
     "metadata": {},
     "output_type": "execute_result"
    }
   ],
   "source": [
    "tabla_capturas = pd.DataFrame({'Masa (g)': m, \n",
    "                               'Longitud resorte 1 con masa (cm)': l_r1_m, \n",
    "                               'Longitud resorte 2 con masa (cm)': l_r2_m, \n",
    "                               'Longitud resorte 1 y 2 con masa 1 (cm)': l_r1_r2_m1, \n",
    "                               'Longitud resorte 1 y 2 con masa 2 (cm)': l_r1_r2_m2})\n",
    "tabla_capturas"
   ]
  },
  {
   "cell_type": "code",
   "execution_count": 175,
   "metadata": {},
   "outputs": [],
   "source": [
    "def estilo(ax):\n",
    "    ax.set_xlabel(r'$m$')\n",
    "    ax.set_ylabel(r'$\\Delta$ $L$')\n",
    "    ax.set_xticks(np.arange(0, 300, 40))\n",
    "    ax.set_yticks(np.arange(10, 40, 5))\n",
    "    ax.grid(True)"
   ]
  },
  {
   "cell_type": "code",
   "execution_count": 176,
   "metadata": {},
   "outputs": [],
   "source": [
    "def regresion_1(t,gamma):\n",
    "  slope, intercept, r, p, std_err = stats.linregress(t,gamma)\n",
    "  def myfunc(x):\n",
    "    return slope * x + intercept\n",
    "  \n",
    "  mymodel = list(map(myfunc, t))\n",
    "  \n",
    "  r_squared = r**2\n",
    "  \n",
    "  print('slope:', slope)\n",
    "  print('intercept:', intercept)\n",
    "  print('r:', r)\n",
    "  print('R^2:', r_squared)\n",
    "  print('p:', p)\n",
    "  print('std_err:', std_err)\n",
    "  return mymodel"
   ]
  },
  {
   "cell_type": "code",
   "execution_count": 177,
   "metadata": {},
   "outputs": [
    {
     "name": "stdout",
     "output_type": "stream",
     "text": [
      "slope: 0.10116783577322426\n",
      "intercept: 11.298034494086444\n",
      "r: 0.9974309645600893\n",
      "R^2: 0.9948685290632701\n",
      "p: 9.891436893424105e-06\n",
      "std_err: 0.003632875829764023\n"
     ]
    }
   ],
   "source": [
    "#regresion lineal de R1\n",
    "reg_r1 = regresion_1(m, l_r1_m)"
   ]
  },
  {
   "cell_type": "code",
   "execution_count": 178,
   "metadata": {},
   "outputs": [
    {
     "name": "stdout",
     "output_type": "stream",
     "text": [
      "slope: 0.08031869103669714\n",
      "intercept: 10.54540262890354\n",
      "r: 0.9864601466034204\n",
      "R^2: 0.9731036208368417\n",
      "p: 0.0002737503303844248\n",
      "std_err: 0.006676578989160086\n"
     ]
    }
   ],
   "source": [
    "#regresion lineal de R2\n",
    "reg_r2 = regresion_1(m, l_r2_m)"
   ]
  },
  {
   "cell_type": "code",
   "execution_count": 179,
   "metadata": {},
   "outputs": [
    {
     "name": "stdout",
     "output_type": "stream",
     "text": [
      "slope: 0.04219579251729043\n",
      "intercept: 11.140862275974197\n",
      "r: 0.9808526375179665\n",
      "R^2: 0.9620718965259514\n",
      "p: 0.0005464223177460352\n",
      "std_err: 0.0041890539331134\n"
     ]
    }
   ],
   "source": [
    "#regresion lineal de R1 y R2 con masa 1\n",
    "reg_r1_r2_m1 = regresion_1(m, l_r1_r2_m1)"
   ]
  },
  {
   "cell_type": "code",
   "execution_count": 180,
   "metadata": {},
   "outputs": [
    {
     "name": "stdout",
     "output_type": "stream",
     "text": [
      "slope: 0.1983061408064609\n",
      "intercept: 24.01934768892054\n",
      "r: 0.9996467929807489\n",
      "R^2: 0.9992937107166961\n",
      "p: 1.871107654665048e-07\n",
      "std_err: 0.0026360333381638436\n"
     ]
    }
   ],
   "source": [
    "#regresion lineal de R1 y R2 con masa 2\n",
    "reg_r1_r2_m2 = regresion_1(m, l_r1_r2_m2)"
   ]
  },
  {
   "cell_type": "markdown",
   "metadata": {},
   "source": [
    "Calculo de las constantes:\n",
    "\n",
    "Tenemos que $K_1$, $K_2$, $K_{paralelo}$ y $K_{serie}$ se halla con las ecuaciones\n",
    "\n",
    "$$\n",
    "K=\\frac{1}{pendiente}\n",
    "$$\n",
    "\n",
    "y para $K_{serie}$ comapramos el resultado con el obtenido de la siguiente ecuación utilizamos la ecuacion:\n",
    "\n",
    "$$\n",
    "K_{serieecc}=\\frac{1}{\\frac{1}{K_1}+\\frac{1}{K_2}}\n",
    "$$\n",
    "\n"
   ]
  },
  {
   "cell_type": "code",
   "execution_count": 207,
   "metadata": {},
   "outputs": [
    {
     "data": {
      "text/html": [
       "<div>\n",
       "<style scoped>\n",
       "    .dataframe tbody tr th:only-of-type {\n",
       "        vertical-align: middle;\n",
       "    }\n",
       "\n",
       "    .dataframe tbody tr th {\n",
       "        vertical-align: top;\n",
       "    }\n",
       "\n",
       "    .dataframe thead th {\n",
       "        text-align: right;\n",
       "    }\n",
       "</style>\n",
       "<table border=\"1\" class=\"dataframe\">\n",
       "  <thead>\n",
       "    <tr style=\"text-align: right;\">\n",
       "      <th></th>\n",
       "      <th>K_r1</th>\n",
       "      <th>K_r2</th>\n",
       "      <th>K_r1_r2</th>\n",
       "      <th>K_para</th>\n",
       "      <th>K_serie</th>\n",
       "      <th>K_serie_ecc</th>\n",
       "    </tr>\n",
       "  </thead>\n",
       "  <tbody>\n",
       "    <tr>\n",
       "      <th>0</th>\n",
       "      <td>9.884565</td>\n",
       "      <td>12.450402</td>\n",
       "      <td>22.334967</td>\n",
       "      <td>23.699045</td>\n",
       "      <td>5.042708</td>\n",
       "      <td>5.042708</td>\n",
       "    </tr>\n",
       "  </tbody>\n",
       "</table>\n",
       "</div>"
      ],
      "text/plain": [
       "       K_r1       K_r2    K_r1_r2     K_para   K_serie  K_serie_ecc\n",
       "0  9.884565  12.450402  22.334967  23.699045  5.042708     5.042708"
      ]
     },
     "execution_count": 207,
     "metadata": {},
     "output_type": "execute_result"
    }
   ],
   "source": [
    "K_r1 = 1/0.10116783577322426\n",
    "K_r2 = 1/0.08031869103669714\n",
    "K_r1_r2 = K_r1 + K_r2\n",
    "K_para = 1/0.04219579251729043\n",
    "K_serie = 1/0.1983061408064609\n",
    "K_serie_ecc = 1/((1/K_r1) + (1/K_r2))\n",
    "\n",
    "tabla_K = pd.DataFrame({'K_r1': [K_r1], 'K_r2': [K_r2], 'K_r1_r2': [K_r1_r2], 'K_para': [K_para], 'K_serie' : [K_serie], 'K_serie_ecc': [K_serie]})\n",
    "tabla_K\n"
   ]
  },
  {
   "cell_type": "code",
   "execution_count": 200,
   "metadata": {},
   "outputs": [
    {
     "data": {
      "image/png": "[encoded data removed]",
      "text/plain": [
       "<Figure size 1000x600 with 4 Axes>"
      ]
     },
     "metadata": {},
     "output_type": "display_data"
    }
   ],
   "source": [
    "fig_1 = plt.figure(figsize=(10, 6))\n",
    "fig_1.suptitle('Longitud de los resortes', fontsize=16)\n",
    "spec = fig_1.add_gridspec(nrows=2, ncols=2, figure=fig_1)\n",
    "ax1 = fig_1.add_subplot(spec[0, 0])\n",
    "ax1.set_title(r'Resorte $R_1$')\n",
    "ax1.plot(m, reg_r1,color='#2980b9', label=r'$\\Delta L = 0.10m + 11.29$' + '\\n' + r'$R^2 = 0.99$')\n",
    "ax1.plot(m, l_r1_m, 'o', color='#1f5070')\n",
    "estilo(ax1)\n",
    "ax2 = fig_1.add_subplot(spec[0, 1])\n",
    "ax2.set_title(r'Resorte $R_2$')\n",
    "ax2.plot(m, reg_r2,color='#ff5733', label=r'$\\Delta L = 0.08m + 10.54$' + '\\n' + r'$R^2 = 0.97$')\n",
    "ax2.plot(m, l_r2_m, 'o', color='#a81111')\n",
    "estilo(ax2)\n",
    "ax3 = fig_1.add_subplot(spec[1, 0])\n",
    "ax3.set_title(r'Resorte $R_1$ junto a $R_2$')\n",
    "ax3.plot(m, reg_r1_r2_m1,color='#0a6314', label=r'$\\Delta L = 0.04m + 11.14$' + '\\n' + r'$R^2 = 0.96$')\n",
    "ax3.plot(m, l_r1_r2_m1, 'o', color='#10911f')\n",
    "estilo(ax3)\n",
    "ax4 = fig_1.add_subplot(spec[1, 1])\n",
    "ax4.set_title(r'Resorte $R_1$ sobre $R_2$')\n",
    "ax4.plot(m, reg_r1_r2_m2,color='#7d3c98', label=r'$\\Delta L = 0.19m + 24.01$' + '\\n' + r'$R^2 = 0.99$')\n",
    "ax4.plot(m, l_r1_r2_m2, 'o', color='purple')\n",
    "ax4.set_xlabel(r'$m$')\n",
    "ax4.set_ylabel(r'$\\Delta$ $L$')\n",
    "ax4.set_xticks(np.arange(0, 300, 40))\n",
    "ax4.set_yticks(np.arange(20, 80, 10))\n",
    "ax4.grid(True)\n",
    "fig_1.tight_layout()\n",
    "fig_1.legend(loc='lower center',bbox_to_anchor=(0.5, -0.1), ncol=5,shadow=True, fancybox=True)\n",
    "plt.savefig('resorte_grafica_1.png', dpi = 300, bbox_inches = 'tight')\n",
    "fig_1.show()"
   ]
  }
 ],
 "metadata": {
  "kernelspec": {
   "display_name": "Python 3",
   "language": "python",
   "name": "python3"
  },
  "language_info": {
   "codemirror_mode": {
    "name": "ipython",
    "version": 3
   },
   "file_extension": ".py",
   "mimetype": "text/x-python",
   "name": "python",
   "nbconvert_exporter": "python",
   "pygments_lexer": "ipython3",
   "version": "3.10.13"
  }
 },
 "nbformat": 4,
 "nbformat_minor": 2
}
